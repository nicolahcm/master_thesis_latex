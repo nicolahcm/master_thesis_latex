{
 "cells": [
  {
   "cell_type": "markdown",
   "metadata": {
    "id": "ghOOzkl2XuNL"
   },
   "source": [
    "https://www.analyticsvidhya.com/blog/2021/09/ordinary-differential-equations-made-easy-with-deep-learning/"
   ]
  },
  {
   "cell_type": "code",
   "execution_count": 1,
   "metadata": {
    "executionInfo": {
     "elapsed": 6315,
     "status": "ok",
     "timestamp": 1638300736897,
     "user": {
      "displayName": "Dmitry Rokhlin",
      "photoUrl": "https://lh3.googleusercontent.com/a/default-user=s64",
      "userId": "04125091294042394805"
     },
     "user_tz": -180
    },
    "id": "xz_GYq__VN5A"
   },
   "outputs": [],
   "source": [
    "import torch\n",
    "import torch.nn as nn\n",
    "import numpy as np\n",
    "import matplotlib.pyplot as plt\n",
    "\n",
    "## check if GPU is available and use it; otherwise use CPU\n",
    "device = torch.device(\"cuda:0\" if torch.cuda.is_available() else \"cpu\")\n"
   ]
  },
  {
   "cell_type": "markdown",
   "metadata": {
    "id": "_MSBok_ZXo5Q"
   },
   "source": [
    "Lagaris, 1"
   ]
  },
  {
   "cell_type": "markdown",
   "metadata": {},
   "source": [
    "## 1) Inizializzo la rete neurale\n",
    "\n",
    " Using Sequential to create a small model. When `model` is run,\n",
    " input will first be passed to `Conv2d(1,20,5)`. The output of\n",
    " `Conv2d(1,20,5)` will be used as the input to the first\n",
    " `ReLU`; the output of the first `ReLU` will become the input\n",
    " for `Conv2d(20,64,5)`. Finally, the output of\n",
    " `Conv2d(20,64,5)` will be used as input to the second `ReLU`\n",
    " \n",
    "model = nn.Sequential(\n",
    "          nn.Conv2d(1,20,5),\n",
    "          nn.ReLU(),\n",
    "          nn.Conv2d(20,64,5),\n",
    "          nn.ReLU()\n",
    "        )\n"
   ]
  },
  {
   "cell_type": "code",
   "execution_count": 2,
   "metadata": {
    "executionInfo": {
     "elapsed": 626,
     "status": "ok",
     "timestamp": 1638300752485,
     "user": {
      "displayName": "Dmitry Rokhlin",
      "photoUrl": "https://lh3.googleusercontent.com/a/default-user=s64",
      "userId": "04125091294042394805"
     },
     "user_tz": -180
    },
    "id": "t64dpQtaVXWa"
   },
   "outputs": [],
   "source": [
    "N = nn.Sequential(nn.Linear(1, 50), nn.Sigmoid(), nn.Linear(50,50) , nn.Sigmoid(), nn.Linear(50,1, bias=False))\n",
    "# Attacca \n",
    "## 1) Un input con 50 output. Dove c'è linearità,\n",
    "## 2) A questi 50 output viene applicato il sigmoide\n",
    "## 3) E questi 50 nodi diventano 1, senza bias. con linearità.\n",
    "### Quindi in realtà c'è solo 1 Hidden Layer!!"
   ]
  },
  {
   "cell_type": "markdown",
   "metadata": {},
   "source": [
    "$$ \\psi(0)=A$$\n",
    "\n",
    "$$\\frac{d\\psi}{dx} = f(x,\\psi) $$\n",
    "\n",
    "We solve by setting psi trial as follows\n",
    "\n",
    "$$\\psi_t(x) := A + xN(x,p)$$\n",
    "\n",
    "It automatically satisfies the initial conditions. So we just care about making N(x,p) so that psi trial satisfies the differential equation\n",
    "\n",
    "------------------------------------\n",
    "\n",
    "In our particular case we set \n",
    "\n",
    "$$f(x,\\psi) = e^{\\frac{-x}{5}}\\cdot \\cos(x) - \\frac{\\Psi}{5}$$"
   ]
  },
  {
   "cell_type": "code",
   "execution_count": 3,
   "metadata": {
    "executionInfo": {
     "elapsed": 650,
     "status": "ok",
     "timestamp": 1638300767181,
     "user": {
      "displayName": "Dmitry Rokhlin",
      "photoUrl": "https://lh3.googleusercontent.com/a/default-user=s64",
      "userId": "04125091294042394805"
     },
     "user_tz": -180
    },
    "id": "DwJxmg-9VcTk"
   },
   "outputs": [],
   "source": [
    "A = 0.\n",
    "Psi_t = lambda x: A + x * N(x)\n",
    "f = lambda x, Psi: torch.exp(-x / 5.0) * torch.cos(x) - Psi / 5.0"
   ]
  },
  {
   "cell_type": "code",
   "execution_count": 4,
   "metadata": {
    "executionInfo": {
     "elapsed": 394,
     "status": "ok",
     "timestamp": 1638301143358,
     "user": {
      "displayName": "Dmitry Rokhlin",
      "photoUrl": "https://lh3.googleusercontent.com/a/default-user=s64",
      "userId": "04125091294042394805"
     },
     "user_tz": -180
    },
    "id": "0eZzL2dDWsUv"
   },
   "outputs": [],
   "source": [
    "def loss(x):\n",
    "\n",
    "    x.requires_grad = True\n",
    "    outputs = Psi_t(x)\n",
    "    Psi_t_x = torch.autograd.grad(outputs, x, grad_outputs=torch.ones_like(outputs),\n",
    "                        create_graph=True)[0]\n",
    "\n",
    "    return  torch.mean( ( Psi_t_x - f(x, outputs) )  ** 2)"
   ]
  },
  {
   "cell_type": "code",
   "execution_count": 5,
   "metadata": {
    "executionInfo": {
     "elapsed": 486,
     "status": "ok",
     "timestamp": 1638301172226,
     "user": {
      "displayName": "Dmitry Rokhlin",
      "photoUrl": "https://lh3.googleusercontent.com/a/default-user=s64",
      "userId": "04125091294042394805"
     },
     "user_tz": -180
    },
    "id": "Riew-gYkW_Kw"
   },
   "outputs": [],
   "source": [
    "optimizer = torch.optim.LBFGS(N.parameters())"
   ]
  },
  {
   "cell_type": "code",
   "execution_count": 6,
   "metadata": {
    "executionInfo": {
     "elapsed": 399,
     "status": "ok",
     "timestamp": 1638301190983,
     "user": {
      "displayName": "Dmitry Rokhlin",
      "photoUrl": "https://lh3.googleusercontent.com/a/default-user=s64",
      "userId": "04125091294042394805"
     },
     "user_tz": -180
    },
    "id": "2jknTJAdXDsH"
   },
   "outputs": [],
   "source": [
    "x = torch.Tensor(np.linspace(0, 2, 100)[:, None])"
   ]
  },
  {
   "cell_type": "code",
   "execution_count": 7,
   "metadata": {
    "executionInfo": {
     "elapsed": 406,
     "status": "ok",
     "timestamp": 1638301245613,
     "user": {
      "displayName": "Dmitry Rokhlin",
      "photoUrl": "https://lh3.googleusercontent.com/a/default-user=s64",
      "userId": "04125091294042394805"
     },
     "user_tz": -180
    },
    "id": "-n4Y1uBUXQ97"
   },
   "outputs": [],
   "source": [
    "def closure():\n",
    "\n",
    "    optimizer.zero_grad()\n",
    "    l = loss(x)\n",
    "    l.backward()\n",
    "    \n",
    "    return l\n",
    "\n",
    "for i in range(10):\n",
    "    optimizer.step(closure)"
   ]
  },
  {
   "cell_type": "code",
   "execution_count": 8,
   "metadata": {
    "colab": {
     "base_uri": "https://localhost:8080/",
     "height": 382
    },
    "executionInfo": {
     "elapsed": 1037,
     "status": "ok",
     "timestamp": 1638301287536,
     "user": {
      "displayName": "Dmitry Rokhlin",
      "photoUrl": "https://lh3.googleusercontent.com/a/default-user=s64",
      "userId": "04125091294042394805"
     },
     "user_tz": -180
    },
    "id": "cX4_GKWeXbGQ",
    "outputId": "2558eca2-1e94-469b-8fa1-032ee857072b"
   },
   "outputs": [],
   "source": [
    "xx = np.linspace(0, 2, 100)[:, None]\n",
    "\n",
    "with torch.no_grad():\n",
    "    yy = Psi_t(torch.Tensor(xx)).numpy()\n",
    "yt = np.exp(-xx / 5.0) * np.sin(xx)\n",
    "\n"
   ]
  },
  {
   "cell_type": "markdown",
   "metadata": {},
   "source": [
    "# Not understood: Loss and closure functions. How do they work? How to use them??"
   ]
  },
  {
   "cell_type": "code",
   "execution_count": 9,
   "metadata": {},
   "outputs": [
    {
     "data": {
      "image/png": "[encoded data removed]",
      "text/plain": [
       "<Figure size 600x400 with 1 Axes>"
      ]
     },
     "metadata": {
      "needs_background": "light"
     },
     "output_type": "display_data"
    }
   ],
   "source": [
    "fig, ax = plt.subplots(dpi=100)\n",
    "ax.plot(xx, yt, label='True')\n",
    "ax.plot(xx, yy, '--', label='Neural network approximation')\n",
    "ax.set_xlabel('$x$')\n",
    "ax.set_ylabel('$Psi(x)$')\n",
    "plt.legend(loc='best');"
   ]
  },
  {
   "cell_type": "code",
   "execution_count": 12,
   "metadata": {},
   "outputs": [
    {
     "ename": "NameError",
     "evalue": "name 'pd' is not defined",
     "output_type": "error",
     "traceback": [
      "\u001b[0;31m---------------------------------------------------------------------------\u001b[0m",
      "\u001b[0;31mNameError\u001b[0m                                 Traceback (most recent call last)",
      "\u001b[0;32m/tmp/ipykernel_9210/1570858101.py\u001b[0m in \u001b[0;36m<module>\u001b[0;34m\u001b[0m\n\u001b[0;32m----> 1\u001b[0;31m \u001b[0mpd\u001b[0m\u001b[0;34m.\u001b[0m\u001b[0mDataFrame\u001b[0m\u001b[0;34m(\u001b[0m\u001b[0myy\u001b[0m\u001b[0;34m)\u001b[0m\u001b[0;34m\u001b[0m\u001b[0;34m\u001b[0m\u001b[0m\n\u001b[0m",
      "\u001b[0;31mNameError\u001b[0m: name 'pd' is not defined"
     ]
    }
   ],
   "source": [
    "pd.DataFrame(yy)"
   ]
  },
  {
   "cell_type": "markdown",
   "metadata": {},
   "source": [
    "------------------------"
   ]
  },
  {
   "cell_type": "markdown",
   "metadata": {
    "id": "hncyphHUXzdP"
   },
   "source": [
    "Lagaris, 2"
   ]
  },
  {
   "cell_type": "code",
   "execution_count": 15,
   "metadata": {
    "executionInfo": {
     "elapsed": 408,
     "status": "ok",
     "timestamp": 1638301421071,
     "user": {
      "displayName": "Dmitry Rokhlin",
      "photoUrl": "https://lh3.googleusercontent.com/a/default-user=s64",
      "userId": "04125091294042394805"
     },
     "user_tz": -180
    },
    "id": "vG5-YXs-X7of"
   },
   "outputs": [],
   "source": [
    "N = nn.Sequential(nn.Linear(1, 50), nn.Sigmoid(), nn.Linear(50,1, bias=False))"
   ]
  },
  {
   "cell_type": "code",
   "execution_count": 16,
   "metadata": {
    "executionInfo": {
     "elapsed": 401,
     "status": "ok",
     "timestamp": 1638301439034,
     "user": {
      "displayName": "Dmitry Rokhlin",
      "photoUrl": "https://lh3.googleusercontent.com/a/default-user=s64",
      "userId": "04125091294042394805"
     },
     "user_tz": -180
    },
    "id": "Vei6EbuKYAPL"
   },
   "outputs": [],
   "source": [
    "A = 0.\n",
    "B = 0."
   ]
  },
  {
   "cell_type": "code",
   "execution_count": 17,
   "metadata": {
    "executionInfo": {
     "elapsed": 395,
     "status": "ok",
     "timestamp": 1638301454130,
     "user": {
      "displayName": "Dmitry Rokhlin",
      "photoUrl": "https://lh3.googleusercontent.com/a/default-user=s64",
      "userId": "04125091294042394805"
     },
     "user_tz": -180
    },
    "id": "6XwVvYfZYD_7"
   },
   "outputs": [],
   "source": [
    "Psi_t = lambda x: A*(1-x) + B * x + (1-x)* x * N(x)"
   ]
  },
  {
   "cell_type": "code",
   "execution_count": 18,
   "metadata": {
    "executionInfo": {
     "elapsed": 383,
     "status": "ok",
     "timestamp": 1638301473437,
     "user": {
      "displayName": "Dmitry Rokhlin",
      "photoUrl": "https://lh3.googleusercontent.com/a/default-user=s64",
      "userId": "04125091294042394805"
     },
     "user_tz": -180
    },
    "id": "4qj8PRmLYIVP"
   },
   "outputs": [],
   "source": [
    "f = lambda x, Psi: -1"
   ]
  },
  {
   "cell_type": "code",
   "execution_count": 19,
   "metadata": {
    "executionInfo": {
     "elapsed": 429,
     "status": "ok",
     "timestamp": 1638301522416,
     "user": {
      "displayName": "Dmitry Rokhlin",
      "photoUrl": "https://lh3.googleusercontent.com/a/default-user=s64",
      "userId": "04125091294042394805"
     },
     "user_tz": -180
    },
    "id": "ukZcD34pYUJv"
   },
   "outputs": [],
   "source": [
    "def loss(x):\n",
    "\n",
    "    x.requires_grad = True\n",
    "    outputs = Psi_t(x)\n",
    "\n",
    "    #we need Psi_x_x \n",
    "    #calculating gradient twice \n",
    "\n",
    "    Psi_t_x = torch.autograd.grad(outputs, x, grad_outputs=torch.ones_like(outputs),\n",
    "                                            create_graph=True)[0]\n",
    "    Psi_t_x_x = torch.autograd.grad(Psi_t_x, x, grad_outputs=torch.ones_like(Psi_t_x),\n",
    "                                            create_graph=True )[0]\n",
    "\n",
    "    return torch.mean((Psi_t_x_x - f(x, outputs)) ** 2)"
   ]
  },
  {
   "cell_type": "code",
   "execution_count": 20,
   "metadata": {
    "executionInfo": {
     "elapsed": 401,
     "status": "ok",
     "timestamp": 1638301535599,
     "user": {
      "displayName": "Dmitry Rokhlin",
      "photoUrl": "https://lh3.googleusercontent.com/a/default-user=s64",
      "userId": "04125091294042394805"
     },
     "user_tz": -180
    },
    "id": "PzGQ7EyeYX30"
   },
   "outputs": [],
   "source": [
    "optimizer = torch.optim.LBFGS(N.parameters())\n",
    "x = torch.Tensor(np.linspace(0, 1, 100)[:, None])"
   ]
  },
  {
   "cell_type": "code",
   "execution_count": 21,
   "metadata": {
    "executionInfo": {
     "elapsed": 393,
     "status": "ok",
     "timestamp": 1638301552942,
     "user": {
      "displayName": "Dmitry Rokhlin",
      "photoUrl": "https://lh3.googleusercontent.com/a/default-user=s64",
      "userId": "04125091294042394805"
     },
     "user_tz": -180
    },
    "id": "2Ga1XOcQYcJH"
   },
   "outputs": [],
   "source": [
    "def closure():\n",
    "    optimizer.zero_grad()\n",
    "    l = loss(x)\n",
    "    l.backward()\n",
    "    return l\n",
    "\n",
    "for i in range(10):\n",
    "    optimizer.step(closure)"
   ]
  },
  {
   "cell_type": "code",
   "execution_count": 22,
   "metadata": {
    "colab": {
     "base_uri": "https://localhost:8080/",
     "height": 382
    },
    "executionInfo": {
     "elapsed": 692,
     "status": "ok",
     "timestamp": 1638301567684,
     "user": {
      "displayName": "Dmitry Rokhlin",
      "photoUrl": "https://lh3.googleusercontent.com/a/default-user=s64",
      "userId": "04125091294042394805"
     },
     "user_tz": -180
    },
    "id": "E6Ev1kRIYfN5",
    "outputId": "a6aeac3e-7a16-4111-d334-1dc4671eb8d2"
   },
   "outputs": [
    {
     "data": {
      "image/png": "[encoded data removed]",
      "text/plain": [
       "<Figure size 600x400 with 1 Axes>"
      ]
     },
     "metadata": {
      "needs_background": "light"
     },
     "output_type": "display_data"
    }
   ],
   "source": [
    "xx = np.linspace(0, 1, 100)[:, None]\n",
    "\n",
    "with torch.no_grad():\n",
    "    yy = Psi_t(torch.Tensor(xx)).numpy()\n",
    "\n",
    "yt = (0.5) * (-xx**2 + xx ) #actual function pts\n",
    "\n",
    "fig, ax = plt.subplots(dpi=100)\n",
    "ax.plot(xx, yt, label='True')\n",
    "ax.plot(xx, yy, '--', label='Neural network approximation')\n",
    "ax.set_xlabel('$x$')\n",
    "ax.set_ylabel('$Psi(x)$')\n",
    "plt.legend(loc='best');"
   ]
  },
  {
   "cell_type": "code",
   "execution_count": null,
   "metadata": {},
   "outputs": [],
   "source": []
  }
 ],
 "metadata": {
  "colab": {
   "authorship_tag": "ABX9TyOhXh5rtScV0JQ7dek+MCV0",
   "name": "Копия блокнота \"Untitled29.ipynb\"",
   "provenance": [
    {
     "file_id": "1U77MbLZz9lKwWXQwtFP93S50ezqGbE_H",
     "timestamp": 1638301709942
    }
   ]
  },
  "kernelspec": {
   "display_name": "Python 3 (ipykernel)",
   "language": "python",
   "name": "python3"
  },
  "language_info": {
   "codemirror_mode": {
    "name": "ipython",
    "version": 3
   },
   "file_extension": ".py",
   "mimetype": "text/x-python",
   "name": "python",
   "nbconvert_exporter": "python",
   "pygments_lexer": "ipython3",
   "version": "3.8.10"
  }
 },
 "nbformat": 4,
 "nbformat_minor": 1
}
